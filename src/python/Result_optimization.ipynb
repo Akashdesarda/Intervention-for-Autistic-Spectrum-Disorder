{
 "cells": [
  {
   "cell_type": "markdown",
   "metadata": {},
   "source": [
    " Multilinear Regression(Based on back propagation) is used for optimization. As there are five diffrent modules, we are using Multilinear Regression algorithm to rank them based on there importance. \n",
    " "
   ]
  },
  {
   "cell_type": "code",
   "execution_count": 1,
   "metadata": {},
   "outputs": [],
   "source": [
    "import pandas as pd\n",
    "import matplotlib.pyplot as plt\n",
    "import numpy as np"
   ]
  },
  {
   "cell_type": "code",
   "execution_count": 2,
   "metadata": {},
   "outputs": [],
   "source": [
    "dataset = pd.read_csv('Results_optimization.csv')\n",
    "X = dataset.iloc[:, 1:6].values\n",
    "y = dataset.iloc[:, 6].values"
   ]
  },
  {
   "cell_type": "code",
   "execution_count": 4,
   "metadata": {},
   "outputs": [
    {
     "name": "stdout",
     "output_type": "stream",
     "text": [
      "                   Name  Verbal     Logic    Emotion  Object    Social  Result\n",
      "0            jay_jain_4       5  5.833333   8.333333     6.0  6.666667  8.1695\n",
      "1          John Abraham       5  3.333333   7.500000     4.5  4.166667  5.6966\n",
      "2        Albert_Jonas_6       7  2.500000   9.166667     6.5  5.833333  7.2655\n",
      "3           joy_marsh_5       6  5.000000   1.666667     3.5  6.666667  5.2935\n",
      "4            smith_john       4  3.333333   9.166667     2.5  5.833333  5.5496\n",
      "5               nothing       7  3.333333   6.666667     6.5  5.000000  6.5179\n",
      "6         Anand_Gupta_6       7  8.333333   6.666667     7.5  5.833333  8.2216\n",
      "7           Neha_Shah_8       6  7.500000   9.166667     6.0  3.333333  8.2216\n",
      "8         Sheela_Modi_8       2  3.333333   9.166667     3.5  5.000000  5.1047\n",
      "9         Aarti_Patel_6       7  7.166667   5.833333     4.5  9.166667  7.5695\n",
      "10     Priya_Panchal_8        7  2.500000   7.500000     5.0  0.833333  5.0000\n",
      "11   Karishma_Agrawal_7       7  6.666667  10.000000     6.0  4.166667  6.6927\n",
      "12    Elliot_Anderson_8       7  5.833333   5.000000     3.0  5.833333  6.7640\n",
      "13     Saurabh_Tiwari_7       7  6.666667   9.166667     4.0  5.000000  6.6927\n",
      "14       Brian_Thomas_6       9  8.333333  10.000000     5.0  4.166667  8.1695\n",
      "15      Sheetal_Patil_5       3  5.833333   5.000000     3.0  5.000000  5.1053\n",
      "16      Rushabh_Mutha_6       2  5.000000   5.000000     2.5  5.833333  5.0000\n",
      "17        Shahid_Khan_5       6  6.666667   5.833333     5.5  6.666667  8.1695\n",
      "[[  5.           5.83333333   8.33333333   6.           6.66666667]\n",
      " [  5.           3.33333333   7.5          4.5          4.16666667]\n",
      " [  7.           2.5          9.16666667   6.5          5.83333333]\n",
      " [  6.           5.           1.66666667   3.5          6.66666667]\n",
      " [  4.           3.33333333   9.16666667   2.5          5.83333333]\n",
      " [  7.           3.33333333   6.66666667   6.5          5.        ]\n",
      " [  7.           8.33333333   6.66666667   7.5          5.83333333]\n",
      " [  6.           7.5          9.16666667   6.           3.33333333]\n",
      " [  2.           3.33333333   9.16666667   3.5          5.        ]\n",
      " [  7.           7.16666667   5.83333333   4.5          9.16666667]\n",
      " [  7.           2.5          7.5          5.           0.83333333]\n",
      " [  7.           6.66666667  10.           6.           4.16666667]\n",
      " [  7.           5.83333333   5.           3.           5.83333333]\n",
      " [  7.           6.66666667   9.16666667   4.           5.        ]\n",
      " [  9.           8.33333333  10.           5.           4.16666667]\n",
      " [  3.           5.83333333   5.           3.           5.        ]\n",
      " [  2.           5.           5.           2.5          5.83333333]\n",
      " [  6.           6.66666667   5.83333333   5.5          6.66666667]]\n",
      "[ 8.1695  5.6966  7.2655  5.2935  5.5496  6.5179  8.2216  8.2216  5.1047\n",
      "  7.5695  5.      6.6927  6.764   6.6927  8.1695  5.1053  5.      8.1695]\n"
     ]
    }
   ],
   "source": [
    "print(dataset)\n",
    "print(X)\n",
    "print(y)"
   ]
  },
  {
   "cell_type": "code",
   "execution_count": 5,
   "metadata": {},
   "outputs": [],
   "source": [
    "#Splitting the dataset\n",
    "from sklearn.model_selection import train_test_split\n",
    "X_train, X_test, y_train, y_test = train_test_split(X,y, test_size=0.2, random_state=0)"
   ]
  },
  {
   "cell_type": "code",
   "execution_count": 6,
   "metadata": {},
   "outputs": [
    {
     "data": {
      "text/plain": [
       "LinearRegression(copy_X=True, fit_intercept=True, n_jobs=1, normalize=False)"
      ]
     },
     "execution_count": 6,
     "metadata": {},
     "output_type": "execute_result"
    }
   ],
   "source": [
    "#Fiting multiple linear regression to training set\n",
    "from sklearn.linear_model import LinearRegression\n",
    "reg = LinearRegression()\n",
    "reg.fit(X_train, y_train)\n"
   ]
  },
  {
   "cell_type": "code",
   "execution_count": 7,
   "metadata": {},
   "outputs": [],
   "source": [
    "#Predicting the value\n",
    "y_pred = reg.predict(X_test)"
   ]
  },
  {
   "cell_type": "code",
   "execution_count": 8,
   "metadata": {},
   "outputs": [
    {
     "name": "stderr",
     "output_type": "stream",
     "text": [
      "C:\\Users\\expert\\Anaconda3\\lib\\site-packages\\scipy\\stats\\stats.py:1334: UserWarning: kurtosistest only valid for n>=20 ... continuing anyway, n=18\n",
      "  \"anyway, n=%i\" % int(n))\n"
     ]
    },
    {
     "data": {
      "text/html": [
       "<table class=\"simpletable\">\n",
       "<caption>OLS Regression Results</caption>\n",
       "<tr>\n",
       "  <th>Dep. Variable:</th>            <td>y</td>        <th>  R-squared:         </th> <td>   0.995</td>\n",
       "</tr>\n",
       "<tr>\n",
       "  <th>Model:</th>                   <td>OLS</td>       <th>  Adj. R-squared:    </th> <td>   0.994</td>\n",
       "</tr>\n",
       "<tr>\n",
       "  <th>Method:</th>             <td>Least Squares</td>  <th>  F-statistic:       </th> <td>   559.1</td>\n",
       "</tr>\n",
       "<tr>\n",
       "  <th>Date:</th>             <td>Sun, 01 Apr 2018</td> <th>  Prob (F-statistic):</th> <td>1.08e-14</td>\n",
       "</tr>\n",
       "<tr>\n",
       "  <th>Time:</th>                 <td>09:14:46</td>     <th>  Log-Likelihood:    </th> <td> -11.495</td>\n",
       "</tr>\n",
       "<tr>\n",
       "  <th>No. Observations:</th>      <td>    18</td>      <th>  AIC:               </th> <td>   32.99</td>\n",
       "</tr>\n",
       "<tr>\n",
       "  <th>Df Residuals:</th>          <td>    13</td>      <th>  BIC:               </th> <td>   37.44</td>\n",
       "</tr>\n",
       "<tr>\n",
       "  <th>Df Model:</th>              <td>     5</td>      <th>                     </th>     <td> </td>   \n",
       "</tr>\n",
       "<tr>\n",
       "  <th>Covariance Type:</th>      <td>nonrobust</td>    <th>                     </th>     <td> </td>   \n",
       "</tr>\n",
       "</table>\n",
       "<table class=\"simpletable\">\n",
       "<tr>\n",
       "   <td></td>     <th>coef</th>     <th>std err</th>      <th>t</th>      <th>P>|t|</th>  <th>[0.025</th>    <th>0.975]</th>  \n",
       "</tr>\n",
       "<tr>\n",
       "  <th>x1</th> <td>    0.1345</td> <td>    0.085</td> <td>    1.585</td> <td> 0.137</td> <td>   -0.049</td> <td>    0.318</td>\n",
       "</tr>\n",
       "<tr>\n",
       "  <th>x2</th> <td>    0.2699</td> <td>    0.076</td> <td>    3.554</td> <td> 0.004</td> <td>    0.106</td> <td>    0.434</td>\n",
       "</tr>\n",
       "<tr>\n",
       "  <th>x3</th> <td>    0.1602</td> <td>    0.053</td> <td>    3.032</td> <td> 0.010</td> <td>    0.046</td> <td>    0.274</td>\n",
       "</tr>\n",
       "<tr>\n",
       "  <th>x4</th> <td>    0.3726</td> <td>    0.109</td> <td>    3.407</td> <td> 0.005</td> <td>    0.136</td> <td>    0.609</td>\n",
       "</tr>\n",
       "<tr>\n",
       "  <th>x5</th> <td>    0.2760</td> <td>    0.064</td> <td>    4.308</td> <td> 0.001</td> <td>    0.138</td> <td>    0.414</td>\n",
       "</tr>\n",
       "</table>\n",
       "<table class=\"simpletable\">\n",
       "<tr>\n",
       "  <th>Omnibus:</th>       <td> 0.200</td> <th>  Durbin-Watson:     </th> <td>   2.598</td>\n",
       "</tr>\n",
       "<tr>\n",
       "  <th>Prob(Omnibus):</th> <td> 0.905</td> <th>  Jarque-Bera (JB):  </th> <td>   0.034</td>\n",
       "</tr>\n",
       "<tr>\n",
       "  <th>Skew:</th>          <td>-0.063</td> <th>  Prob(JB):          </th> <td>   0.983</td>\n",
       "</tr>\n",
       "<tr>\n",
       "  <th>Kurtosis:</th>      <td> 2.829</td> <th>  Cond. No.          </th> <td>    12.9</td>\n",
       "</tr>\n",
       "</table>"
      ],
      "text/plain": [
       "<class 'statsmodels.iolib.summary.Summary'>\n",
       "\"\"\"\n",
       "                            OLS Regression Results                            \n",
       "==============================================================================\n",
       "Dep. Variable:                      y   R-squared:                       0.995\n",
       "Model:                            OLS   Adj. R-squared:                  0.994\n",
       "Method:                 Least Squares   F-statistic:                     559.1\n",
       "Date:                Sun, 01 Apr 2018   Prob (F-statistic):           1.08e-14\n",
       "Time:                        09:14:46   Log-Likelihood:                -11.495\n",
       "No. Observations:                  18   AIC:                             32.99\n",
       "Df Residuals:                      13   BIC:                             37.44\n",
       "Df Model:                           5                                         \n",
       "Covariance Type:            nonrobust                                         \n",
       "==============================================================================\n",
       "                 coef    std err          t      P>|t|      [0.025      0.975]\n",
       "------------------------------------------------------------------------------\n",
       "x1             0.1345      0.085      1.585      0.137      -0.049       0.318\n",
       "x2             0.2699      0.076      3.554      0.004       0.106       0.434\n",
       "x3             0.1602      0.053      3.032      0.010       0.046       0.274\n",
       "x4             0.3726      0.109      3.407      0.005       0.136       0.609\n",
       "x5             0.2760      0.064      4.308      0.001       0.138       0.414\n",
       "==============================================================================\n",
       "Omnibus:                        0.200   Durbin-Watson:                   2.598\n",
       "Prob(Omnibus):                  0.905   Jarque-Bera (JB):                0.034\n",
       "Skew:                          -0.063   Prob(JB):                        0.983\n",
       "Kurtosis:                       2.829   Cond. No.                         12.9\n",
       "==============================================================================\n",
       "\n",
       "Warnings:\n",
       "[1] Standard Errors assume that the covariance matrix of the errors is correctly specified.\n",
       "\"\"\""
      ]
     },
     "execution_count": 8,
     "metadata": {},
     "output_type": "execute_result"
    }
   ],
   "source": [
    "#Building the optimal model\n",
    "import statsmodels.formula.api as sms\n",
    "X_opt = X[: , [0,1,2,3,4]]\n",
    "reg_ols  = sms.OLS(endog = y, exog = X_opt).fit()\n",
    "reg_ols.summary()\n"
   ]
  },
  {
   "cell_type": "code",
   "execution_count": 9,
   "metadata": {},
   "outputs": [
    {
     "name": "stderr",
     "output_type": "stream",
     "text": [
      "C:\\Users\\expert\\Anaconda3\\lib\\site-packages\\scipy\\stats\\stats.py:1334: UserWarning: kurtosistest only valid for n>=20 ... continuing anyway, n=18\n",
      "  \"anyway, n=%i\" % int(n))\n"
     ]
    },
    {
     "data": {
      "text/html": [
       "<table class=\"simpletable\">\n",
       "<caption>OLS Regression Results</caption>\n",
       "<tr>\n",
       "  <th>Dep. Variable:</th>            <td>y</td>        <th>  R-squared:         </th> <td>   0.994</td>\n",
       "</tr>\n",
       "<tr>\n",
       "  <th>Model:</th>                   <td>OLS</td>       <th>  Adj. R-squared:    </th> <td>   0.993</td>\n",
       "</tr>\n",
       "<tr>\n",
       "  <th>Method:</th>             <td>Least Squares</td>  <th>  F-statistic:       </th> <td>   630.2</td>\n",
       "</tr>\n",
       "<tr>\n",
       "  <th>Date:</th>             <td>Sun, 01 Apr 2018</td> <th>  Prob (F-statistic):</th> <td>1.25e-15</td>\n",
       "</tr>\n",
       "<tr>\n",
       "  <th>Time:</th>                 <td>09:15:02</td>     <th>  Log-Likelihood:    </th> <td> -13.085</td>\n",
       "</tr>\n",
       "<tr>\n",
       "  <th>No. Observations:</th>      <td>    18</td>      <th>  AIC:               </th> <td>   34.17</td>\n",
       "</tr>\n",
       "<tr>\n",
       "  <th>Df Residuals:</th>          <td>    14</td>      <th>  BIC:               </th> <td>   37.73</td>\n",
       "</tr>\n",
       "<tr>\n",
       "  <th>Df Model:</th>              <td>     4</td>      <th>                     </th>     <td> </td>   \n",
       "</tr>\n",
       "<tr>\n",
       "  <th>Covariance Type:</th>      <td>nonrobust</td>    <th>                     </th>     <td> </td>   \n",
       "</tr>\n",
       "</table>\n",
       "<table class=\"simpletable\">\n",
       "<tr>\n",
       "   <td></td>     <th>coef</th>     <th>std err</th>      <th>t</th>      <th>P>|t|</th>  <th>[0.025</th>    <th>0.975]</th>  \n",
       "</tr>\n",
       "<tr>\n",
       "  <th>x1</th> <td>    0.3113</td> <td>    0.075</td> <td>    4.147</td> <td> 0.001</td> <td>    0.150</td> <td>    0.472</td>\n",
       "</tr>\n",
       "<tr>\n",
       "  <th>x2</th> <td>    0.1707</td> <td>    0.055</td> <td>    3.093</td> <td> 0.008</td> <td>    0.052</td> <td>    0.289</td>\n",
       "</tr>\n",
       "<tr>\n",
       "  <th>x3</th> <td>    0.4693</td> <td>    0.096</td> <td>    4.910</td> <td> 0.000</td> <td>    0.264</td> <td>    0.674</td>\n",
       "</tr>\n",
       "<tr>\n",
       "  <th>x4</th> <td>    0.2785</td> <td>    0.067</td> <td>    4.131</td> <td> 0.001</td> <td>    0.134</td> <td>    0.423</td>\n",
       "</tr>\n",
       "</table>\n",
       "<table class=\"simpletable\">\n",
       "<tr>\n",
       "  <th>Omnibus:</th>       <td> 0.215</td> <th>  Durbin-Watson:     </th> <td>   3.027</td>\n",
       "</tr>\n",
       "<tr>\n",
       "  <th>Prob(Omnibus):</th> <td> 0.898</td> <th>  Jarque-Bera (JB):  </th> <td>   0.030</td>\n",
       "</tr>\n",
       "<tr>\n",
       "  <th>Skew:</th>          <td>-0.062</td> <th>  Prob(JB):          </th> <td>   0.985</td>\n",
       "</tr>\n",
       "<tr>\n",
       "  <th>Kurtosis:</th>      <td> 2.843</td> <th>  Cond. No.          </th> <td>    9.21</td>\n",
       "</tr>\n",
       "</table>"
      ],
      "text/plain": [
       "<class 'statsmodels.iolib.summary.Summary'>\n",
       "\"\"\"\n",
       "                            OLS Regression Results                            \n",
       "==============================================================================\n",
       "Dep. Variable:                      y   R-squared:                       0.994\n",
       "Model:                            OLS   Adj. R-squared:                  0.993\n",
       "Method:                 Least Squares   F-statistic:                     630.2\n",
       "Date:                Sun, 01 Apr 2018   Prob (F-statistic):           1.25e-15\n",
       "Time:                        09:15:02   Log-Likelihood:                -13.085\n",
       "No. Observations:                  18   AIC:                             34.17\n",
       "Df Residuals:                      14   BIC:                             37.73\n",
       "Df Model:                           4                                         \n",
       "Covariance Type:            nonrobust                                         \n",
       "==============================================================================\n",
       "                 coef    std err          t      P>|t|      [0.025      0.975]\n",
       "------------------------------------------------------------------------------\n",
       "x1             0.3113      0.075      4.147      0.001       0.150       0.472\n",
       "x2             0.1707      0.055      3.093      0.008       0.052       0.289\n",
       "x3             0.4693      0.096      4.910      0.000       0.264       0.674\n",
       "x4             0.2785      0.067      4.131      0.001       0.134       0.423\n",
       "==============================================================================\n",
       "Omnibus:                        0.215   Durbin-Watson:                   3.027\n",
       "Prob(Omnibus):                  0.898   Jarque-Bera (JB):                0.030\n",
       "Skew:                          -0.062   Prob(JB):                        0.985\n",
       "Kurtosis:                       2.843   Cond. No.                         9.21\n",
       "==============================================================================\n",
       "\n",
       "Warnings:\n",
       "[1] Standard Errors assume that the covariance matrix of the errors is correctly specified.\n",
       "\"\"\""
      ]
     },
     "execution_count": 9,
     "metadata": {},
     "output_type": "execute_result"
    }
   ],
   "source": [
    "#2nd iteration\n",
    "X_opt = X[: , [1,2,3,4]]\n",
    "reg_ols  = sms.OLS(endog = y, exog = X_opt).fit()\n",
    "reg_ols.summary()\n"
   ]
  },
  {
   "cell_type": "code",
   "execution_count": 10,
   "metadata": {},
   "outputs": [
    {
     "name": "stderr",
     "output_type": "stream",
     "text": [
      "C:\\Users\\expert\\Anaconda3\\lib\\site-packages\\scipy\\stats\\stats.py:1334: UserWarning: kurtosistest only valid for n>=20 ... continuing anyway, n=18\n",
      "  \"anyway, n=%i\" % int(n))\n"
     ]
    },
    {
     "data": {
      "text/html": [
       "<table class=\"simpletable\">\n",
       "<caption>OLS Regression Results</caption>\n",
       "<tr>\n",
       "  <th>Dep. Variable:</th>            <td>y</td>        <th>  R-squared:         </th> <td>   0.991</td>\n",
       "</tr>\n",
       "<tr>\n",
       "  <th>Model:</th>                   <td>OLS</td>       <th>  Adj. R-squared:    </th> <td>   0.989</td>\n",
       "</tr>\n",
       "<tr>\n",
       "  <th>Method:</th>             <td>Least Squares</td>  <th>  F-statistic:       </th> <td>   532.8</td>\n",
       "</tr>\n",
       "<tr>\n",
       "  <th>Date:</th>             <td>Sun, 01 Apr 2018</td> <th>  Prob (F-statistic):</th> <td>1.87e-15</td>\n",
       "</tr>\n",
       "<tr>\n",
       "  <th>Time:</th>                 <td>09:15:15</td>     <th>  Log-Likelihood:    </th> <td> -17.773</td>\n",
       "</tr>\n",
       "<tr>\n",
       "  <th>No. Observations:</th>      <td>    18</td>      <th>  AIC:               </th> <td>   41.55</td>\n",
       "</tr>\n",
       "<tr>\n",
       "  <th>Df Residuals:</th>          <td>    15</td>      <th>  BIC:               </th> <td>   44.22</td>\n",
       "</tr>\n",
       "<tr>\n",
       "  <th>Df Model:</th>              <td>     3</td>      <th>                     </th>     <td> </td>   \n",
       "</tr>\n",
       "<tr>\n",
       "  <th>Covariance Type:</th>      <td>nonrobust</td>    <th>                     </th>     <td> </td>   \n",
       "</tr>\n",
       "</table>\n",
       "<table class=\"simpletable\">\n",
       "<tr>\n",
       "   <td></td>     <th>coef</th>     <th>std err</th>      <th>t</th>      <th>P>|t|</th>  <th>[0.025</th>    <th>0.975]</th>  \n",
       "</tr>\n",
       "<tr>\n",
       "  <th>x1</th> <td>    0.3521</td> <td>    0.093</td> <td>    3.801</td> <td> 0.002</td> <td>    0.155</td> <td>    0.550</td>\n",
       "</tr>\n",
       "<tr>\n",
       "  <th>x2</th> <td>    0.6564</td> <td>    0.093</td> <td>    7.079</td> <td> 0.000</td> <td>    0.459</td> <td>    0.854</td>\n",
       "</tr>\n",
       "<tr>\n",
       "  <th>x3</th> <td>    0.2948</td> <td>    0.084</td> <td>    3.499</td> <td> 0.003</td> <td>    0.115</td> <td>    0.474</td>\n",
       "</tr>\n",
       "</table>\n",
       "<table class=\"simpletable\">\n",
       "<tr>\n",
       "  <th>Omnibus:</th>       <td> 0.947</td> <th>  Durbin-Watson:     </th> <td>   2.802</td>\n",
       "</tr>\n",
       "<tr>\n",
       "  <th>Prob(Omnibus):</th> <td> 0.623</td> <th>  Jarque-Bera (JB):  </th> <td>   0.877</td>\n",
       "</tr>\n",
       "<tr>\n",
       "  <th>Skew:</th>          <td>-0.442</td> <th>  Prob(JB):          </th> <td>   0.645</td>\n",
       "</tr>\n",
       "<tr>\n",
       "  <th>Kurtosis:</th>      <td> 2.377</td> <th>  Cond. No.          </th> <td>    6.37</td>\n",
       "</tr>\n",
       "</table>"
      ],
      "text/plain": [
       "<class 'statsmodels.iolib.summary.Summary'>\n",
       "\"\"\"\n",
       "                            OLS Regression Results                            \n",
       "==============================================================================\n",
       "Dep. Variable:                      y   R-squared:                       0.991\n",
       "Model:                            OLS   Adj. R-squared:                  0.989\n",
       "Method:                 Least Squares   F-statistic:                     532.8\n",
       "Date:                Sun, 01 Apr 2018   Prob (F-statistic):           1.87e-15\n",
       "Time:                        09:15:15   Log-Likelihood:                -17.773\n",
       "No. Observations:                  18   AIC:                             41.55\n",
       "Df Residuals:                      15   BIC:                             44.22\n",
       "Df Model:                           3                                         \n",
       "Covariance Type:            nonrobust                                         \n",
       "==============================================================================\n",
       "                 coef    std err          t      P>|t|      [0.025      0.975]\n",
       "------------------------------------------------------------------------------\n",
       "x1             0.3521      0.093      3.801      0.002       0.155       0.550\n",
       "x2             0.6564      0.093      7.079      0.000       0.459       0.854\n",
       "x3             0.2948      0.084      3.499      0.003       0.115       0.474\n",
       "==============================================================================\n",
       "Omnibus:                        0.947   Durbin-Watson:                   2.802\n",
       "Prob(Omnibus):                  0.623   Jarque-Bera (JB):                0.877\n",
       "Skew:                          -0.442   Prob(JB):                        0.645\n",
       "Kurtosis:                       2.377   Cond. No.                         6.37\n",
       "==============================================================================\n",
       "\n",
       "Warnings:\n",
       "[1] Standard Errors assume that the covariance matrix of the errors is correctly specified.\n",
       "\"\"\""
      ]
     },
     "execution_count": 10,
     "metadata": {},
     "output_type": "execute_result"
    }
   ],
   "source": [
    "#3rd iteration\n",
    "X_opt = X[: , [1,3,4]]\n",
    "reg_ols  = sms.OLS(endog = y, exog = X_opt).fit()\n",
    "reg_ols.summary()\n"
   ]
  },
  {
   "cell_type": "code",
   "execution_count": 11,
   "metadata": {},
   "outputs": [
    {
     "name": "stderr",
     "output_type": "stream",
     "text": [
      "C:\\Users\\expert\\Anaconda3\\lib\\site-packages\\scipy\\stats\\stats.py:1334: UserWarning: kurtosistest only valid for n>=20 ... continuing anyway, n=18\n",
      "  \"anyway, n=%i\" % int(n))\n"
     ]
    },
    {
     "data": {
      "text/html": [
       "<table class=\"simpletable\">\n",
       "<caption>OLS Regression Results</caption>\n",
       "<tr>\n",
       "  <th>Dep. Variable:</th>            <td>y</td>        <th>  R-squared:         </th> <td>   0.983</td>\n",
       "</tr>\n",
       "<tr>\n",
       "  <th>Model:</th>                   <td>OLS</td>       <th>  Adj. R-squared:    </th> <td>   0.981</td>\n",
       "</tr>\n",
       "<tr>\n",
       "  <th>Method:</th>             <td>Least Squares</td>  <th>  F-statistic:       </th> <td>   465.8</td>\n",
       "</tr>\n",
       "<tr>\n",
       "  <th>Date:</th>             <td>Sun, 01 Apr 2018</td> <th>  Prob (F-statistic):</th> <td>6.60e-15</td>\n",
       "</tr>\n",
       "<tr>\n",
       "  <th>Time:</th>                 <td>09:15:38</td>     <th>  Log-Likelihood:    </th> <td> -23.143</td>\n",
       "</tr>\n",
       "<tr>\n",
       "  <th>No. Observations:</th>      <td>    18</td>      <th>  AIC:               </th> <td>   50.29</td>\n",
       "</tr>\n",
       "<tr>\n",
       "  <th>Df Residuals:</th>          <td>    16</td>      <th>  BIC:               </th> <td>   52.07</td>\n",
       "</tr>\n",
       "<tr>\n",
       "  <th>Df Model:</th>              <td>     2</td>      <th>                     </th>     <td> </td>   \n",
       "</tr>\n",
       "<tr>\n",
       "  <th>Covariance Type:</th>      <td>nonrobust</td>    <th>                     </th>     <td> </td>   \n",
       "</tr>\n",
       "</table>\n",
       "<table class=\"simpletable\">\n",
       "<tr>\n",
       "   <td></td>     <th>coef</th>     <th>std err</th>      <th>t</th>      <th>P>|t|</th>  <th>[0.025</th>    <th>0.975]</th>  \n",
       "</tr>\n",
       "<tr>\n",
       "  <th>x1</th> <td>    0.5360</td> <td>    0.100</td> <td>    5.387</td> <td> 0.000</td> <td>    0.325</td> <td>    0.747</td>\n",
       "</tr>\n",
       "<tr>\n",
       "  <th>x2</th> <td>    0.7568</td> <td>    0.115</td> <td>    6.577</td> <td> 0.000</td> <td>    0.513</td> <td>    1.001</td>\n",
       "</tr>\n",
       "</table>\n",
       "<table class=\"simpletable\">\n",
       "<tr>\n",
       "  <th>Omnibus:</th>       <td> 2.692</td> <th>  Durbin-Watson:     </th> <td>   2.011</td>\n",
       "</tr>\n",
       "<tr>\n",
       "  <th>Prob(Omnibus):</th> <td> 0.260</td> <th>  Jarque-Bera (JB):  </th> <td>   1.008</td>\n",
       "</tr>\n",
       "<tr>\n",
       "  <th>Skew:</th>          <td>-0.474</td> <th>  Prob(JB):          </th> <td>   0.604</td>\n",
       "</tr>\n",
       "<tr>\n",
       "  <th>Kurtosis:</th>      <td> 3.668</td> <th>  Cond. No.          </th> <td>    5.06</td>\n",
       "</tr>\n",
       "</table>"
      ],
      "text/plain": [
       "<class 'statsmodels.iolib.summary.Summary'>\n",
       "\"\"\"\n",
       "                            OLS Regression Results                            \n",
       "==============================================================================\n",
       "Dep. Variable:                      y   R-squared:                       0.983\n",
       "Model:                            OLS   Adj. R-squared:                  0.981\n",
       "Method:                 Least Squares   F-statistic:                     465.8\n",
       "Date:                Sun, 01 Apr 2018   Prob (F-statistic):           6.60e-15\n",
       "Time:                        09:15:38   Log-Likelihood:                -23.143\n",
       "No. Observations:                  18   AIC:                             50.29\n",
       "Df Residuals:                      16   BIC:                             52.07\n",
       "Df Model:                           2                                         \n",
       "Covariance Type:            nonrobust                                         \n",
       "==============================================================================\n",
       "                 coef    std err          t      P>|t|      [0.025      0.975]\n",
       "------------------------------------------------------------------------------\n",
       "x1             0.5360      0.100      5.387      0.000       0.325       0.747\n",
       "x2             0.7568      0.115      6.577      0.000       0.513       1.001\n",
       "==============================================================================\n",
       "Omnibus:                        2.692   Durbin-Watson:                   2.011\n",
       "Prob(Omnibus):                  0.260   Jarque-Bera (JB):                1.008\n",
       "Skew:                          -0.474   Prob(JB):                        0.604\n",
       "Kurtosis:                       3.668   Cond. No.                         5.06\n",
       "==============================================================================\n",
       "\n",
       "Warnings:\n",
       "[1] Standard Errors assume that the covariance matrix of the errors is correctly specified.\n",
       "\"\"\""
      ]
     },
     "execution_count": 11,
     "metadata": {},
     "output_type": "execute_result"
    }
   ],
   "source": [
    "#4th iteration\n",
    "X_opt = X[: , [1,3]]\n",
    "reg_ols  = sms.OLS(endog = y, exog = X_opt).fit()\n",
    "reg_ols.summary()\n"
   ]
  },
  {
   "cell_type": "markdown",
   "metadata": {},
   "source": [
    "After each iteration the most insigificant module or 'test' was eliminated. \n",
    "So, Here are the ranking:\n",
    "1. Logic\n",
    "2. Object\n",
    "3. Social\n",
    "4. Emotion\n",
    "5. Verbal\n",
    "\n",
    "#### Note: All this calculation are based on Dummy data, just for testing the correctness of model. Actual value may changed when data used in algorithm is based on test performed by kids in real world.\n",
    "\n"
   ]
  }
 ],
 "metadata": {
  "kernelspec": {
   "display_name": "Python 3",
   "language": "python",
   "name": "python3"
  },
  "language_info": {
   "codemirror_mode": {
    "name": "ipython",
    "version": 3
   },
   "file_extension": ".py",
   "mimetype": "text/x-python",
   "name": "python",
   "nbconvert_exporter": "python",
   "pygments_lexer": "ipython3",
   "version": "3.6.3"
  }
 },
 "nbformat": 4,
 "nbformat_minor": 2
}
